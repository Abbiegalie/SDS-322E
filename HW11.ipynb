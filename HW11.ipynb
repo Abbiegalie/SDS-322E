{
 "cells": [
  {
   "cell_type": "code",
   "execution_count": 1,
   "metadata": {},
   "outputs": [],
   "source": [
    "\n",
    "from IPython.core.interactiveshell import InteractiveShell\n",
    "InteractiveShell.ast_node_interactivity = \"all\""
   ]
  },
  {
   "cell_type": "code",
   "execution_count": 3,
   "metadata": {},
   "outputs": [
    {
     "data": {
      "text/plain": [
       "Unnamed: 0    272.0\n",
       "eruptions       5.1\n",
       "waiting        96.0\n",
       "dtype: float64"
      ]
     },
     "execution_count": 3,
     "metadata": {},
     "output_type": "execute_result"
    },
    {
     "data": {
      "text/plain": [
       "Unnamed: 0     1.0\n",
       "eruptions      1.6\n",
       "waiting       43.0\n",
       "dtype: float64"
      ]
     },
     "execution_count": 3,
     "metadata": {},
     "output_type": "execute_result"
    },
    {
     "name": "stdout",
     "output_type": "stream",
     "text": [
      "<class 'pandas.core.frame.DataFrame'>\n"
     ]
    }
   ],
   "source": [
    "import ssl\n",
    "\n",
    "ssl._create_default_https_context = ssl._create_unverified_context\n",
    "\n",
    "import pandas as pd\n",
    "\n",
    "faithful=pd.read_csv(\"https://vincentarelbundock.github.io/Rdatasets/csv/datasets/faithful.csv\")\n",
    "faithful.max()\n",
    "faithful.min()\n",
    "print(type(faithful))\n",
    "# ()The mamximum waiting values are 96 and minimum is 43. For the eruption variable the maximum value is 5.1 and minimum value is 1.6. It is a data frame object."
   ]
  },
  {
   "cell_type": "code",
   "execution_count": null,
   "metadata": {},
   "outputs": [],
   "source": [
    "import numpy as np\n",
    "\n",
    "np.mean(faithful.eruptions)\n",
    "np.median(faithful.eruptions)\n",
    "np.var(faithful.eruptiosn)\n",
    "np.mean(faithful.waiting)\n",
    "np.median(faithful.waiting)\n",
    "np.var(faithful.waiting)\n",
    "\n",
    "correlation = np.corrcoef(faithful.eruptions, faithful.waiting)\n",
    "correlation"
   ]
  },
  {
   "cell_type": "code",
   "execution_count": null,
   "metadata": {},
   "outputs": [],
   "source": [
    "faithful[faithful.waiting>60]np.corrcoef"
   ]
  },
  {
   "cell_type": "code",
   "execution_count": null,
   "metadata": {},
   "outputs": [],
   "source": [
    "faithful[faithful.waiting>60].eruptions.mean()\n",
    "#or np.mean(faithful[faithful.waiting>60].eruptions)"
   ]
  },
  {
   "cell_type": "code",
   "execution_count": null,
   "metadata": {},
   "outputs": [],
   "source": [
    "\n",
    "#What is the standard deviation of the variable eruptions?\n",
    "\n",
    "np.std(faithful.eruptions)\n",
    "\n",
    "# The standard deviation for the variable eruptions is  1.139271210225768 "
   ]
  },
  {
   "cell_type": "code",
   "execution_count": null,
   "metadata": {},
   "outputs": [],
   "source": [
    "#What is the standard deviation of the variable eruptions when waiting is less than the median?\n",
    "\n",
    "np.std(faithful[faithful.waiting < faithful.waiting.median()].eruptions)\n",
    "\n",
    "# The standard deviation for the variable eruptions when waiting is leess then the median is 0.9547617317201805."
   ]
  },
  {
   "cell_type": "code",
   "execution_count": null,
   "metadata": {},
   "outputs": [],
   "source": [
    "#What is the standard deviation of the variable eruptions when waiting is greater than the median?\n",
    "\n",
    "np.std(faithful[faithful.waiting > faithful.waiting.median()].eruptions)\n",
    "\n",
    "sd\n",
    "\n",
    "#The standard deviation of the variable when waiting is greater than the median is 0.3716030836143554. "
   ]
  },
  {
   "cell_type": "code",
   "execution_count": null,
   "metadata": {},
   "outputs": [],
   "source": [
    "\n",
    "#Both variables are measured in minutes. Create two new variables named eruptions_h and waiting_h that give each variable in hours rather than minutes and add them to the dataset faithful. To help get you started, I have given you code that creates a new variable called eruptions_minus_one. Instead, compute the requested transformation. Print out the first few rows of the updated dataset using head().\n",
    "\n",
    "# update the code below\n",
    "faithful['eruptions_minus_one']=(faithful['eruptions']-1)\n",
    "faithful\n",
    "del faithful['eruptions_minus_one']\n",
    "faithful['eruptions_h'] =  (faithful['eruptions']/60)\n",
    "faithful['waiting_h'] = (faithful['waiting']/60)\n",
    "faithful.head()\n"
   ]
  },
  {
   "cell_type": "code",
   "execution_count": null,
   "metadata": {},
   "outputs": [],
   "source": [
    "#Create a boxplot of each original variable (eruptions and waiting) using the boxplot() function from matplotlib\n",
    "\n",
    "import matplotlib.pyplot as plt\n",
    "\n",
    "plt.boxplot([faithful.eruptions])\n",
    "plt.show()\n",
    "\n",
    "plt.boxplot([faithful.waiting])\n",
    "plt.show()"
   ]
  },
  {
   "cell_type": "code",
   "execution_count": null,
   "metadata": {},
   "outputs": [],
   "source": [
    "#Create a histogram of each original variable using the hist() function.\n",
    "\n",
    "plt.hist([faithful.eruptions])\n",
    "plt.show()\n",
    "plt.hist([faithful.waiting])\n",
    "plt.show()"
   ]
  },
  {
   "cell_type": "code",
   "execution_count": null,
   "metadata": {},
   "outputs": [],
   "source": [
    "plt.scatter(df[\"var1\"],df[\"var2\"])"
   ]
  },
  {
   "cell_type": "code",
   "execution_count": null,
   "metadata": {},
   "outputs": [],
   "source": [
    "# Load the tips dataset from seaborn (a plotting library that works well wth pandas). Have a look at it below. Notice what happens when you run describe. Which variables were dropped? Take a look at the pandas groupby function and also a few neat seaborn plots!\n",
    "\n",
    "import pandas as pd\n",
    "import seaborn as sns\n",
    "\n",
    "tips = sns.load_dataset('tips')\n",
    "tips\n",
    "tips.describe()"
   ]
  },
  {
   "cell_type": "code",
   "execution_count": null,
   "metadata": {},
   "outputs": [],
   "source": [
    "\n",
    "#using pandas groupby functionality\n",
    "groups = tips.groupby('sex')\n",
    "groups['tip'].mean()"
   ]
  },
  {
   "cell_type": "code",
   "execution_count": null,
   "metadata": {},
   "outputs": [],
   "source": [
    "iris = sns.load_dataset('iris')\n",
    "sns.pairplot(iris, hue='species');"
   ]
  }
 ],
 "metadata": {
  "interpreter": {
   "hash": "aee8b7b246df8f9039afb4144a1f6fd8d2ca17a180786b69acc140d282b71a49"
  },
  "kernelspec": {
   "display_name": "Python 3.8.5 64-bit",
   "name": "python3"
  },
  "language_info": {
   "codemirror_mode": {
    "name": "ipython",
    "version": 3
   },
   "file_extension": ".py",
   "mimetype": "text/x-python",
   "name": "python",
   "nbconvert_exporter": "python",
   "pygments_lexer": "ipython3",
   "version": "3.8.5"
  }
 },
 "nbformat": 4,
 "nbformat_minor": 4
}
